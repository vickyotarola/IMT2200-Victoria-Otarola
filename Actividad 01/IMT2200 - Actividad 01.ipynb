{
 "cells": [
  {
   "cell_type": "markdown",
   "id": "dc695dd9",
   "metadata": {},
   "source": [
    "# <img style=\"float: left; padding-right: 20px; width: 200px\" src=\"https://raw.githubusercontent.com/raxlab/imt2200-data/main/media/logo.jpg\">  IMT 2200 - Introducción a Ciencia de Datos\n",
    "**Pontificia Universidad Católica de Chile**<br>\n",
    "**Instituto de Ingeniería Matemática y Computacional**<br>\n",
    "**Semestre 2025-S2**<br>\n",
    "**Profesor:** Rodrigo A. Carrasco <br>"
   ]
  },
  {
   "cell_type": "markdown",
   "id": "6c6c9ee9",
   "metadata": {},
   "source": [
    "# <h1><center>Actividad 01: Herramientas Computacionales para Ciencia de Datos </center></h1>\n",
    "    \n",
    "## 1. Objetivos de la Actividad\n",
    "\n",
    "Esta Actividad tiene como objetivo probar el ambiente de programación de cada estudiante, la instalación de librerías de Python. El segundo objetivo es aprender a usar GitHub, a configurar su repositorio, y entregar la actividad."
   ]
  },
  {
   "cell_type": "markdown",
   "id": "2fc7c8be",
   "metadata": {},
   "source": [
    "## 2. Módulos de Python\n",
    "\n",
    "### 2.1 Importar módulos\n",
    "\n",
    "Se recomienda comenzar con la importación de módulos o librerías de funciones para distintos usos, o partes de una libreria\n",
    "Para facilitar la referencia a librerías en el resto del código, se acostumbra asignarles un alias. La sintaxis general a usar para importar un módulo es:\n",
    "\n",
    "``import NOMBRE_MODULO as ALIAS_MODULO``\n",
    "o\n",
    "``from NOMBRE_MODULO import FUNCION``"
   ]
  },
  {
   "cell_type": "code",
   "execution_count": null,
   "id": "cdbb598f",
   "metadata": {},
   "outputs": [],
   "source": [
    "#Importación de librerías: importe las siguientes librerías, usando alias comunes: numpy, pandas, geopandas\n",
    "import numpy as np\n",
    "import pandas as pd\n",
    "import geopandas as gpd\n",
    "import matplotlib.pyplot as plt"
   ]
  },
  {
   "cell_type": "markdown",
   "id": "dd824ef0",
   "metadata": {},
   "source": [
    "## 3. Ejercicio: Inspección de Datos del Censo 2017\n",
    "El código a continuación permite descargar, leer, hacer algunos cálculos básicos y visualizar los datos de población del censo chileno de 2017 para la región metropolitana.\n",
    "En este notebook, ud. sólo debe ejecutar las celdas de código a continuación, hasta generar una figura con la distribución de población total por manzana censal en la RM. Como demostración de la ejecución exitosa del código, debe subir este notebook y la figura final a su repositorio de Github."
   ]
  },
  {
   "cell_type": "code",
   "execution_count": null,
   "id": "9cab2874",
   "metadata": {},
   "outputs": [],
   "source": [
    "#Leer archivo enun DataFrame\n",
    "dat=pd.read_csv('Censo2017_Manzanas.csv',delimiter=';')\n",
    "\n",
    "#Visualizar las primeras lineas\n",
    "dat.head()"
   ]
  },
  {
   "cell_type": "code",
   "execution_count": null,
   "id": "d4dae948",
   "metadata": {},
   "outputs": [],
   "source": [
    "dat.info()"
   ]
  },
  {
   "cell_type": "markdown",
   "id": "aa08b4b3",
   "metadata": {},
   "source": [
    "### Pregunta: ¿Cuál era la población total de Chile en 2017?\n",
    "\n",
    "Para responderla podemos hacer un cálculo sencillo y sumar todos los datos de la columna `PERSONAS`:"
   ]
  },
  {
   "cell_type": "code",
   "execution_count": null,
   "id": "8682d719",
   "metadata": {},
   "outputs": [],
   "source": [
    "#Total de población\n",
    "total_pop=dat['PERSONAS'].sum()\n",
    "print(f'Población total en 2017: {total_pop}')"
   ]
  },
  {
   "cell_type": "markdown",
   "id": "e55e4d7a",
   "metadata": {},
   "source": [
    "También podemos usar algunas funciones más avanzadas de `pandas`para analizar la distribución de personas por región y edad:"
   ]
  },
  {
   "cell_type": "code",
   "execution_count": null,
   "id": "96b2df47",
   "metadata": {},
   "outputs": [],
   "source": [
    "#Distribución por edad y género\n",
    "cols=['EDAD_0A5','EDAD_6A14','EDAD_15A64','EDAD_65YMAS']\n",
    "for col in cols:\n",
    "    dat[col]=dat[col].replace('*',0).astype(float)\n",
    "    \n",
    "pv=pd.pivot_table(dat, index='REGION', values=cols, aggfunc='sum', margins=False)\n",
    "pv"
   ]
  },
  {
   "cell_type": "markdown",
   "id": "c1c3b172",
   "metadata": {},
   "source": [
    "Y podemos graficar la cantidad por región:"
   ]
  },
  {
   "cell_type": "code",
   "execution_count": null,
   "id": "96d7dd53",
   "metadata": {
    "scrolled": true
   },
   "outputs": [],
   "source": [
    "fig = plt.figure(figsize=(11,3))\n",
    "ax = fig.add_subplot(111)\n",
    "ax.set_ylabel('Número de personas')\n",
    "fig.suptitle('Distribución de población por Edad y Región (Chile, Censo 2017)')\n",
    "pv.plot(kind='bar', ax =ax);"
   ]
  },
  {
   "cell_type": "markdown",
   "id": "954d2860",
   "metadata": {},
   "source": [
    "## 4. Creación de un Mapa con información del Censo\n",
    "\n",
    "A continuación usaremos librerías de geopandas para conectar un mapa de la Región Metropolitana con datos del Censo de 2017."
   ]
  },
  {
   "cell_type": "code",
   "execution_count": null,
   "id": "51ee7bab",
   "metadata": {},
   "outputs": [],
   "source": [
    "#Leer datos censales\n",
    "manz=gpd.read_file('R13/MANZANA_IND_C17.shp')\n",
    "com=gpd.read_file('R13/COMUNA_C17.shp')"
   ]
  },
  {
   "cell_type": "markdown",
   "id": "e7ceeb05",
   "metadata": {},
   "source": [
    "Geopandas permite graficar archivos de mapas de múltiples formas. Para más información pueden revisar el siguiente enlace: https://geopandas.org/en/stable/docs/user_guide/mapping.html"
   ]
  },
  {
   "cell_type": "code",
   "execution_count": null,
   "id": "360aaa93",
   "metadata": {},
   "outputs": [],
   "source": [
    "com.plot()"
   ]
  },
  {
   "cell_type": "code",
   "execution_count": null,
   "id": "20ef6ff9",
   "metadata": {},
   "outputs": [],
   "source": [
    "manz.head()"
   ]
  },
  {
   "cell_type": "markdown",
   "id": "f56870cd",
   "metadata": {},
   "source": [
    "El siguiente código conecta el mapa de la Región Metropolitana con la población por manzana del Censo 2017. Edite el código para que la figura tenga su nombre en el Titulo"
   ]
  },
  {
   "cell_type": "code",
   "execution_count": null,
   "id": "9617c152",
   "metadata": {},
   "outputs": [],
   "source": [
    "from mpl_toolkits.axes_grid1 import make_axes_locatable\n",
    "import matplotlib.colors as colors\n",
    "\n",
    "#Crear figura y ejes\n",
    "fig=plt.figure(figsize=(13,13))\n",
    "ax=fig.add_subplot(111)\n",
    "divider = make_axes_locatable(ax)\n",
    "cax = divider.append_axes(\"right\", size=\"5%\", pad=0.1)\n",
    "\n",
    "# cantidad de personas por manzana\n",
    "Z=manz['TOTAL_PERS']\n",
    "manz.plot(ax=ax, column='TOTAL_PERS', cmap='Reds', legend=True, vmin=0, vmax=1000)\n",
    "\n",
    "com_projected = com.to_crs(epsg=3857)\n",
    "com_projected.boundary.plot(ax=ax, lw=0.2, color='k')\n",
    "\n",
    "xlim=[-70.9,-70.4]\n",
    "ylim=[-33.7,-33.2]\n",
    "for x, y, label in zip(com_projected.geometry.centroid.x, com_projected.geometry.centroid.y, com_projected.NOM_COMUNA):\n",
    "    if xlim[0]<x<xlim[1] and ylim[0]<y<ylim[1]:\n",
    "        ax.text(x, y, label, fontsize = 10)\n",
    "        \n",
    "ax.set_xlim(xlim)\n",
    "ax.set_ylim(ylim);\n",
    "\n",
    "## Reemplace 'XXX' por su apellido\n",
    "ax.set_title('RM - Población total por manzana - Censo 2017 - Ejecutado por XXXX',fontsize=10)\n",
    "\n",
    "## Reemplace 'XXX' por su apellido en el nombre del archivo de salida \n",
    "fig.savefig('PoblacionRM_C2017_XXXX.jpg')"
   ]
  },
  {
   "cell_type": "markdown",
   "id": "c6b67691",
   "metadata": {},
   "source": [
    "## 5. Cierre de la Actividad 01: Repositorio presonal\n",
    "\n",
    "Para terminar la Actividad 01, deben hacer los siguientes pasos:\n",
    "- Crear un repositorio en su cuenta personal con el nombre ``IMT2200-<NOMBRE>-<APELLIDO>`` y clonar en su computador.\n",
    "- Crear una carpeta adentro llamada \"Actividad 01\" y copiar adentro el contenido de la carpeta \"Actividad 01\" del repositorio del curso.\n",
    "- Actualizar el repositorio agregando el Notebook de Jupyter y la imagen con el Mapa con su nombre.\n",
    "- Editar el archivo ``README.md`` para describir su repositorio.\n",
    "- Entregar en el módulo ``Actividad 1`` en Canvas la URL de su repositorio para corrección."
   ]
  },
  {
   "cell_type": "code",
   "execution_count": null,
   "id": "c3df16ff",
   "metadata": {},
   "outputs": [],
   "source": []
  }
 ],
 "metadata": {
  "kernelspec": {
   "display_name": "Python 3 (ipykernel)",
   "language": "python",
   "name": "python3"
  },
  "language_info": {
   "codemirror_mode": {
    "name": "ipython",
    "version": 3
   },
   "file_extension": ".py",
   "mimetype": "text/x-python",
   "name": "python",
   "nbconvert_exporter": "python",
   "pygments_lexer": "ipython3",
   "version": "3.12.7"
  }
 },
 "nbformat": 4,
 "nbformat_minor": 5
}
